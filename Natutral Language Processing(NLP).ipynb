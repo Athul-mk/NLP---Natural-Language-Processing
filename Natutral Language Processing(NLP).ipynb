{
  "nbformat": 4,
  "nbformat_minor": 0,
  "metadata": {
    "colab": {
      "provenance": [],
      "gpuType": "T4"
    },
    "kernelspec": {
      "name": "python3",
      "display_name": "Python 3"
    },
    "language_info": {
      "name": "python"
    },
    "accelerator": "GPU"
  },
  "cells": [
    {
      "cell_type": "code",
      "execution_count": 42,
      "metadata": {
        "colab": {
          "base_uri": "https://localhost:8080/"
        },
        "id": "12LuiNnQuwx4",
        "outputId": "143284cf-d61c-49ac-cc4e-f4eb8d91c11d"
      },
      "outputs": [
        {
          "output_type": "stream",
          "name": "stdout",
          "text": [
            "Requirement already satisfied: nltk in /usr/local/lib/python3.10/dist-packages (3.8.1)\n",
            "Requirement already satisfied: click in /usr/local/lib/python3.10/dist-packages (from nltk) (8.1.7)\n",
            "Requirement already satisfied: joblib in /usr/local/lib/python3.10/dist-packages (from nltk) (1.3.2)\n",
            "Requirement already satisfied: regex>=2021.8.3 in /usr/local/lib/python3.10/dist-packages (from nltk) (2023.6.3)\n",
            "Requirement already satisfied: tqdm in /usr/local/lib/python3.10/dist-packages (from nltk) (4.66.1)\n"
          ]
        }
      ],
      "source": [
        "pip install nltk"
      ]
    },
    {
      "cell_type": "code",
      "source": [
        "import nltk\n",
        "nltk.download('punkt')\n"
      ],
      "metadata": {
        "colab": {
          "base_uri": "https://localhost:8080/"
        },
        "id": "beRq__IwvPMQ",
        "outputId": "c050457c-e092-4c91-e8ab-8696891e1ee8"
      },
      "execution_count": 43,
      "outputs": [
        {
          "output_type": "stream",
          "name": "stderr",
          "text": [
            "[nltk_data] Downloading package punkt to /root/nltk_data...\n",
            "[nltk_data]   Package punkt is already up-to-date!\n"
          ]
        },
        {
          "output_type": "execute_result",
          "data": {
            "text/plain": [
              "True"
            ]
          },
          "metadata": {},
          "execution_count": 43
        }
      ]
    },
    {
      "cell_type": "code",
      "source": [
        "data='hii Athul,How are you. where are you coming from?.... Are you joined tommorrow for the job,how was your journey for banglore?....'\n"
      ],
      "metadata": {
        "id": "i4QEx6hLvx7a"
      },
      "execution_count": 44,
      "outputs": []
    },
    {
      "cell_type": "code",
      "source": [
        "#Sentence Tokenization-Breaking a paragraph sentences\n",
        "from nltk.tokenize import sent_tokenize\n",
        "sentences=sent_tokenize(data)\n",
        "sentences"
      ],
      "metadata": {
        "colab": {
          "base_uri": "https://localhost:8080/"
        },
        "id": "hootqjHtyIV9",
        "outputId": "0b14bd55-d6dc-45a6-8b25-5fbc1127db03"
      },
      "execution_count": 45,
      "outputs": [
        {
          "output_type": "execute_result",
          "data": {
            "text/plain": [
              "['hii Athul,How are you.',\n",
              " 'where are you coming from?....',\n",
              " 'Are you joined tommorrow for the job,how was your journey for banglore?....']"
            ]
          },
          "metadata": {},
          "execution_count": 45
        }
      ]
    },
    {
      "cell_type": "code",
      "source": [
        "len(sentences)"
      ],
      "metadata": {
        "colab": {
          "base_uri": "https://localhost:8080/"
        },
        "id": "ko6bX4UAywH6",
        "outputId": "c1a66252-68b3-4595-88c0-737f443351b8"
      },
      "execution_count": 46,
      "outputs": [
        {
          "output_type": "execute_result",
          "data": {
            "text/plain": [
              "3"
            ]
          },
          "metadata": {},
          "execution_count": 46
        }
      ]
    },
    {
      "cell_type": "code",
      "source": [
        "from nltk.tokenize import word_tokenize\n",
        "word=word_tokenize(data)"
      ],
      "metadata": {
        "id": "VjCqrMTKy-hH"
      },
      "execution_count": 47,
      "outputs": []
    },
    {
      "cell_type": "code",
      "source": [
        "word"
      ],
      "metadata": {
        "colab": {
          "base_uri": "https://localhost:8080/"
        },
        "id": "AyEJCPNnzx7C",
        "outputId": "4843aaba-7c4d-4517-a28f-aaba0a037886"
      },
      "execution_count": 48,
      "outputs": [
        {
          "output_type": "execute_result",
          "data": {
            "text/plain": [
              "['hii',\n",
              " 'Athul',\n",
              " ',',\n",
              " 'How',\n",
              " 'are',\n",
              " 'you',\n",
              " '.',\n",
              " 'where',\n",
              " 'are',\n",
              " 'you',\n",
              " 'coming',\n",
              " 'from',\n",
              " '?',\n",
              " '....',\n",
              " 'Are',\n",
              " 'you',\n",
              " 'joined',\n",
              " 'tommorrow',\n",
              " 'for',\n",
              " 'the',\n",
              " 'job',\n",
              " ',',\n",
              " 'how',\n",
              " 'was',\n",
              " 'your',\n",
              " 'journey',\n",
              " 'for',\n",
              " 'banglore',\n",
              " '?',\n",
              " '....']"
            ]
          },
          "metadata": {},
          "execution_count": 48
        }
      ]
    },
    {
      "cell_type": "code",
      "source": [
        "len(word)"
      ],
      "metadata": {
        "colab": {
          "base_uri": "https://localhost:8080/"
        },
        "id": "uBzxyACyzy8y",
        "outputId": "bad23aff-6077-446e-d870-cc8e1d4a7e10"
      },
      "execution_count": 49,
      "outputs": [
        {
          "output_type": "execute_result",
          "data": {
            "text/plain": [
              "30"
            ]
          },
          "metadata": {},
          "execution_count": 49
        }
      ]
    },
    {
      "cell_type": "code",
      "source": [
        "import nltk\n",
        "nltk.download('stopwords')\n"
      ],
      "metadata": {
        "colab": {
          "base_uri": "https://localhost:8080/"
        },
        "id": "BdbzXbR2LudJ",
        "outputId": "0ca2e29f-d9e6-4df4-cd74-f74da92ef9a5"
      },
      "execution_count": 50,
      "outputs": [
        {
          "output_type": "stream",
          "name": "stderr",
          "text": [
            "[nltk_data] Downloading package stopwords to /root/nltk_data...\n",
            "[nltk_data]   Package stopwords is already up-to-date!\n"
          ]
        },
        {
          "output_type": "execute_result",
          "data": {
            "text/plain": [
              "True"
            ]
          },
          "metadata": {},
          "execution_count": 50
        }
      ]
    },
    {
      "cell_type": "code",
      "source": [
        "import nltk\n",
        "sw = nltk.corpus.stopwords.words('english')\n",
        "print(sw)"
      ],
      "metadata": {
        "colab": {
          "base_uri": "https://localhost:8080/"
        },
        "id": "3Tv44Cek151z",
        "outputId": "67803a55-5248-4a03-b322-32ccc261c668"
      },
      "execution_count": 51,
      "outputs": [
        {
          "output_type": "stream",
          "name": "stdout",
          "text": [
            "['i', 'me', 'my', 'myself', 'we', 'our', 'ours', 'ourselves', 'you', \"you're\", \"you've\", \"you'll\", \"you'd\", 'your', 'yours', 'yourself', 'yourselves', 'he', 'him', 'his', 'himself', 'she', \"she's\", 'her', 'hers', 'herself', 'it', \"it's\", 'its', 'itself', 'they', 'them', 'their', 'theirs', 'themselves', 'what', 'which', 'who', 'whom', 'this', 'that', \"that'll\", 'these', 'those', 'am', 'is', 'are', 'was', 'were', 'be', 'been', 'being', 'have', 'has', 'had', 'having', 'do', 'does', 'did', 'doing', 'a', 'an', 'the', 'and', 'but', 'if', 'or', 'because', 'as', 'until', 'while', 'of', 'at', 'by', 'for', 'with', 'about', 'against', 'between', 'into', 'through', 'during', 'before', 'after', 'above', 'below', 'to', 'from', 'up', 'down', 'in', 'out', 'on', 'off', 'over', 'under', 'again', 'further', 'then', 'once', 'here', 'there', 'when', 'where', 'why', 'how', 'all', 'any', 'both', 'each', 'few', 'more', 'most', 'other', 'some', 'such', 'no', 'nor', 'not', 'only', 'own', 'same', 'so', 'than', 'too', 'very', 's', 't', 'can', 'will', 'just', 'don', \"don't\", 'should', \"should've\", 'now', 'd', 'll', 'm', 'o', 're', 've', 'y', 'ain', 'aren', \"aren't\", 'couldn', \"couldn't\", 'didn', \"didn't\", 'doesn', \"doesn't\", 'hadn', \"hadn't\", 'hasn', \"hasn't\", 'haven', \"haven't\", 'isn', \"isn't\", 'ma', 'mightn', \"mightn't\", 'mustn', \"mustn't\", 'needn', \"needn't\", 'shan', \"shan't\", 'shouldn', \"shouldn't\", 'wasn', \"wasn't\", 'weren', \"weren't\", 'won', \"won't\", 'wouldn', \"wouldn't\"]\n"
          ]
        }
      ]
    },
    {
      "cell_type": "code",
      "source": [
        "from nltk.stem import PorterStemmer,WordNetLemmatizer\n"
      ],
      "metadata": {
        "id": "gXIsLKsZ2DqO"
      },
      "execution_count": 52,
      "outputs": []
    },
    {
      "cell_type": "code",
      "source": [
        "st=PorterStemmer()\n",
        "le=WordNetLemmatizer()"
      ],
      "metadata": {
        "id": "lZO-Pr8P3jOf"
      },
      "execution_count": 53,
      "outputs": []
    },
    {
      "cell_type": "code",
      "source": [
        "st.stem('joined')"
      ],
      "metadata": {
        "id": "UDhszCn931SN",
        "colab": {
          "base_uri": "https://localhost:8080/",
          "height": 35
        },
        "outputId": "63650c17-5f48-4b03-a95a-f996704ebc07"
      },
      "execution_count": 54,
      "outputs": [
        {
          "output_type": "execute_result",
          "data": {
            "text/plain": [
              "'join'"
            ],
            "application/vnd.google.colaboratory.intrinsic+json": {
              "type": "string"
            }
          },
          "metadata": {},
          "execution_count": 54
        }
      ]
    },
    {
      "cell_type": "code",
      "source": [
        "import nltk\n",
        "nltk.download('wordnet')\n"
      ],
      "metadata": {
        "id": "g49Pszas4Spm",
        "colab": {
          "base_uri": "https://localhost:8080/"
        },
        "outputId": "1658c543-919b-46d3-8836-cf70c96cbb1b"
      },
      "execution_count": 55,
      "outputs": [
        {
          "output_type": "stream",
          "name": "stderr",
          "text": [
            "[nltk_data] Downloading package wordnet to /root/nltk_data...\n",
            "[nltk_data]   Package wordnet is already up-to-date!\n"
          ]
        },
        {
          "output_type": "execute_result",
          "data": {
            "text/plain": [
              "True"
            ]
          },
          "metadata": {},
          "execution_count": 55
        }
      ]
    },
    {
      "cell_type": "code",
      "source": [
        "le.lemmatize('coming')"
      ],
      "metadata": {
        "id": "1sQ1WDUu5Jo-",
        "colab": {
          "base_uri": "https://localhost:8080/",
          "height": 35
        },
        "outputId": "7013fa16-457f-48b8-ad2a-a7f29ce740fd"
      },
      "execution_count": 56,
      "outputs": [
        {
          "output_type": "execute_result",
          "data": {
            "text/plain": [
              "'coming'"
            ],
            "application/vnd.google.colaboratory.intrinsic+json": {
              "type": "string"
            }
          },
          "metadata": {},
          "execution_count": 56
        }
      ]
    },
    {
      "cell_type": "code",
      "source": [
        "st.stem('coming')"
      ],
      "metadata": {
        "id": "w3ApietH5Qfg",
        "colab": {
          "base_uri": "https://localhost:8080/",
          "height": 35
        },
        "outputId": "c5753d27-3bdf-4f61-8ade-a14aaf8d0428"
      },
      "execution_count": 57,
      "outputs": [
        {
          "output_type": "execute_result",
          "data": {
            "text/plain": [
              "'come'"
            ],
            "application/vnd.google.colaboratory.intrinsic+json": {
              "type": "string"
            }
          },
          "metadata": {},
          "execution_count": 57
        }
      ]
    },
    {
      "cell_type": "code",
      "source": [
        "le.lemmatize('joined')"
      ],
      "metadata": {
        "id": "RYo8fJHN5bKX",
        "colab": {
          "base_uri": "https://localhost:8080/",
          "height": 35
        },
        "outputId": "e1998a96-dd81-46dc-8af1-04df3f2f57d9"
      },
      "execution_count": 58,
      "outputs": [
        {
          "output_type": "execute_result",
          "data": {
            "text/plain": [
              "'joined'"
            ],
            "application/vnd.google.colaboratory.intrinsic+json": {
              "type": "string"
            }
          },
          "metadata": {},
          "execution_count": 58
        }
      ]
    },
    {
      "cell_type": "code",
      "source": [
        "import re #regular expression(python)"
      ],
      "metadata": {
        "id": "9lonuB2g5pRP"
      },
      "execution_count": 59,
      "outputs": []
    },
    {
      "cell_type": "code",
      "source": [
        "re.sub('[0-9]','Hii','athulmk2000')"
      ],
      "metadata": {
        "id": "Ltilg_yq5wf7",
        "colab": {
          "base_uri": "https://localhost:8080/",
          "height": 35
        },
        "outputId": "de7e194d-9a3a-4ec4-be12-d4bc0f85ebd8"
      },
      "execution_count": 60,
      "outputs": [
        {
          "output_type": "execute_result",
          "data": {
            "text/plain": [
              "'athulmkHiiHiiHiiHii'"
            ],
            "application/vnd.google.colaboratory.intrinsic+json": {
              "type": "string"
            }
          },
          "metadata": {},
          "execution_count": 60
        }
      ]
    },
    {
      "cell_type": "code",
      "source": [
        "re.sub('[0-9]','','athulmk2000')"
      ],
      "metadata": {
        "id": "RNJomi6q6g9G",
        "colab": {
          "base_uri": "https://localhost:8080/",
          "height": 35
        },
        "outputId": "9a8ea18a-8726-4aa7-9be0-830c9e721788"
      },
      "execution_count": 61,
      "outputs": [
        {
          "output_type": "execute_result",
          "data": {
            "text/plain": [
              "'athulmk'"
            ],
            "application/vnd.google.colaboratory.intrinsic+json": {
              "type": "string"
            }
          },
          "metadata": {},
          "execution_count": 61
        }
      ]
    },
    {
      "cell_type": "code",
      "source": [
        "re.sub('[^0-9]','','athulmk2000')"
      ],
      "metadata": {
        "id": "etiIl-OH6tL_",
        "colab": {
          "base_uri": "https://localhost:8080/",
          "height": 35
        },
        "outputId": "963b0524-8a0b-45a2-bad5-1ee46739d074"
      },
      "execution_count": 62,
      "outputs": [
        {
          "output_type": "execute_result",
          "data": {
            "text/plain": [
              "'2000'"
            ],
            "application/vnd.google.colaboratory.intrinsic+json": {
              "type": "string"
            }
          },
          "metadata": {},
          "execution_count": 62
        }
      ]
    },
    {
      "cell_type": "code",
      "source": [
        "re.sub('[a-z]','','athulmk2000')"
      ],
      "metadata": {
        "id": "1gsMuOXR6-iB",
        "colab": {
          "base_uri": "https://localhost:8080/",
          "height": 35
        },
        "outputId": "04ef0732-614c-43be-ac71-1cd17c7a2cb6"
      },
      "execution_count": 63,
      "outputs": [
        {
          "output_type": "execute_result",
          "data": {
            "text/plain": [
              "'2000'"
            ],
            "application/vnd.google.colaboratory.intrinsic+json": {
              "type": "string"
            }
          },
          "metadata": {},
          "execution_count": 63
        }
      ]
    },
    {
      "cell_type": "code",
      "source": [
        "re.match('[a-z]','athulmk2000')"
      ],
      "metadata": {
        "id": "7eVxi08e7TDA",
        "colab": {
          "base_uri": "https://localhost:8080/"
        },
        "outputId": "f3934a85-2a87-453c-adad-b34de9f02630"
      },
      "execution_count": 64,
      "outputs": [
        {
          "output_type": "execute_result",
          "data": {
            "text/plain": [
              "<re.Match object; span=(0, 1), match='a'>"
            ]
          },
          "metadata": {},
          "execution_count": 64
        }
      ]
    },
    {
      "cell_type": "code",
      "source": [
        "re.sub('[^a-z]','#','athulmk2000')"
      ],
      "metadata": {
        "id": "vKXgW4NI7xK5",
        "colab": {
          "base_uri": "https://localhost:8080/",
          "height": 35
        },
        "outputId": "38cf2667-129d-4c7f-90a3-0bbbaa173334"
      },
      "execution_count": 65,
      "outputs": [
        {
          "output_type": "execute_result",
          "data": {
            "text/plain": [
              "'athulmk####'"
            ],
            "application/vnd.google.colaboratory.intrinsic+json": {
              "type": "string"
            }
          },
          "metadata": {},
          "execution_count": 65
        }
      ]
    },
    {
      "cell_type": "code",
      "source": [
        "re.sub('[^a-zA-Z]','','MaitexaTechnologiescalicut673001')"
      ],
      "metadata": {
        "id": "OmA39cah8Fer",
        "colab": {
          "base_uri": "https://localhost:8080/",
          "height": 35
        },
        "outputId": "0cb60c57-a996-4494-f705-c99352b2cd64"
      },
      "execution_count": 66,
      "outputs": [
        {
          "output_type": "execute_result",
          "data": {
            "text/plain": [
              "'MaitexaTechnologiescalicut'"
            ],
            "application/vnd.google.colaboratory.intrinsic+json": {
              "type": "string"
            }
          },
          "metadata": {},
          "execution_count": 66
        }
      ]
    },
    {
      "cell_type": "code",
      "source": [
        "re.sub('[a-zA-Z]','','MaitexaTechnologiescalicut673001')"
      ],
      "metadata": {
        "id": "ocb33l2o8KyB",
        "colab": {
          "base_uri": "https://localhost:8080/",
          "height": 35
        },
        "outputId": "dc7e77e9-30a3-4ad9-eef6-218eab838c18"
      },
      "execution_count": 67,
      "outputs": [
        {
          "output_type": "execute_result",
          "data": {
            "text/plain": [
              "'673001'"
            ],
            "application/vnd.google.colaboratory.intrinsic+json": {
              "type": "string"
            }
          },
          "metadata": {},
          "execution_count": 67
        }
      ]
    },
    {
      "cell_type": "code",
      "source": [
        "data1=re.sub('[^a-zA-Z]',' ',data)\n",
        "data1"
      ],
      "metadata": {
        "id": "8PSYcz638n8p",
        "colab": {
          "base_uri": "https://localhost:8080/",
          "height": 53
        },
        "outputId": "4c9e8cf6-5704-432e-c46b-c7c31551e0f5"
      },
      "execution_count": 68,
      "outputs": [
        {
          "output_type": "execute_result",
          "data": {
            "text/plain": [
              "'hii Athul How are you  where are you coming from      Are you joined tommorrow for the job how was your journey for banglore     '"
            ],
            "application/vnd.google.colaboratory.intrinsic+json": {
              "type": "string"
            }
          },
          "metadata": {},
          "execution_count": 68
        }
      ]
    },
    {
      "cell_type": "code",
      "source": [
        "word1=nltk.word_tokenize(data1)\n",
        "word1"
      ],
      "metadata": {
        "id": "PkwZKN5i9Mze",
        "colab": {
          "base_uri": "https://localhost:8080/"
        },
        "outputId": "6c6c4f71-21b4-406c-d74f-70c7a2cd4425"
      },
      "execution_count": 69,
      "outputs": [
        {
          "output_type": "execute_result",
          "data": {
            "text/plain": [
              "['hii',\n",
              " 'Athul',\n",
              " 'How',\n",
              " 'are',\n",
              " 'you',\n",
              " 'where',\n",
              " 'are',\n",
              " 'you',\n",
              " 'coming',\n",
              " 'from',\n",
              " 'Are',\n",
              " 'you',\n",
              " 'joined',\n",
              " 'tommorrow',\n",
              " 'for',\n",
              " 'the',\n",
              " 'job',\n",
              " 'how',\n",
              " 'was',\n",
              " 'your',\n",
              " 'journey',\n",
              " 'for',\n",
              " 'banglore']"
            ]
          },
          "metadata": {},
          "execution_count": 69
        }
      ]
    },
    {
      "cell_type": "code",
      "source": [
        "# Removing stopwords\n",
        "newlist=[]\n",
        "for w in word1:\n",
        "  if w not in sw:\n",
        "    stemmedword=le.lemmatize(w)\n",
        "    newlist.append(stemmedword)"
      ],
      "metadata": {
        "id": "PnTnZ6Oh9ttj"
      },
      "execution_count": 70,
      "outputs": []
    },
    {
      "cell_type": "code",
      "source": [
        "newlist"
      ],
      "metadata": {
        "id": "5rmpj0lp_d1d",
        "colab": {
          "base_uri": "https://localhost:8080/"
        },
        "outputId": "450866e9-a72d-4c36-c005-0f02aa9b1637"
      },
      "execution_count": 71,
      "outputs": [
        {
          "output_type": "execute_result",
          "data": {
            "text/plain": [
              "['hii',\n",
              " 'Athul',\n",
              " 'How',\n",
              " 'coming',\n",
              " 'Are',\n",
              " 'joined',\n",
              " 'tommorrow',\n",
              " 'job',\n",
              " 'journey',\n",
              " 'banglore']"
            ]
          },
          "metadata": {},
          "execution_count": 71
        }
      ]
    },
    {
      "cell_type": "code",
      "source": [
        "cleanedword=\" \".join(newlist)\n",
        "cleanedword"
      ],
      "metadata": {
        "id": "ABy6WFGH_ezN",
        "colab": {
          "base_uri": "https://localhost:8080/",
          "height": 35
        },
        "outputId": "9d985c8c-6aea-4735-d506-4171a7d90f52"
      },
      "execution_count": 72,
      "outputs": [
        {
          "output_type": "execute_result",
          "data": {
            "text/plain": [
              "'hii Athul How coming Are joined tommorrow job journey banglore'"
            ],
            "application/vnd.google.colaboratory.intrinsic+json": {
              "type": "string"
            }
          },
          "metadata": {},
          "execution_count": 72
        }
      ]
    },
    {
      "cell_type": "markdown",
      "source": [
        "Using For Loop"
      ],
      "metadata": {
        "id": "idunNfTXClaZ"
      }
    },
    {
      "cell_type": "code",
      "source": [
        "data='The smoke from factories, Vehicles etc are the main reasons for pollution. Different types of pollution are air pollution,noise pollution,sound pollution,water pollution etc.'"
      ],
      "metadata": {
        "id": "Xj8r0q8-AS6q"
      },
      "execution_count": 73,
      "outputs": []
    },
    {
      "cell_type": "code",
      "source": [
        "sentence=nltk.sent_tokenize(data)"
      ],
      "metadata": {
        "id": "a5zy5VzUDghS"
      },
      "execution_count": 74,
      "outputs": []
    },
    {
      "cell_type": "code",
      "source": [
        "sentence"
      ],
      "metadata": {
        "id": "kmTmPMndDnSk",
        "colab": {
          "base_uri": "https://localhost:8080/"
        },
        "outputId": "89d52e0c-15b5-49b4-9bd6-2e663a30411c"
      },
      "execution_count": 75,
      "outputs": [
        {
          "output_type": "execute_result",
          "data": {
            "text/plain": [
              "['The smoke from factories, Vehicles etc are the main reasons for pollution.',\n",
              " 'Different types of pollution are air pollution,noise pollution,sound pollution,water pollution etc.']"
            ]
          },
          "metadata": {},
          "execution_count": 75
        }
      ]
    },
    {
      "cell_type": "code",
      "source": [
        "word=nltk.word_tokenize(data)\n",
        "word\n"
      ],
      "metadata": {
        "id": "EhpI9BYlDoXy",
        "colab": {
          "base_uri": "https://localhost:8080/"
        },
        "outputId": "5437cad0-9c38-4053-daa1-b516904d63bf"
      },
      "execution_count": 76,
      "outputs": [
        {
          "output_type": "execute_result",
          "data": {
            "text/plain": [
              "['The',\n",
              " 'smoke',\n",
              " 'from',\n",
              " 'factories',\n",
              " ',',\n",
              " 'Vehicles',\n",
              " 'etc',\n",
              " 'are',\n",
              " 'the',\n",
              " 'main',\n",
              " 'reasons',\n",
              " 'for',\n",
              " 'pollution',\n",
              " '.',\n",
              " 'Different',\n",
              " 'types',\n",
              " 'of',\n",
              " 'pollution',\n",
              " 'are',\n",
              " 'air',\n",
              " 'pollution',\n",
              " ',',\n",
              " 'noise',\n",
              " 'pollution',\n",
              " ',',\n",
              " 'sound',\n",
              " 'pollution',\n",
              " ',',\n",
              " 'water',\n",
              " 'pollution',\n",
              " 'etc',\n",
              " '.']"
            ]
          },
          "metadata": {},
          "execution_count": 76
        }
      ]
    },
    {
      "cell_type": "code",
      "source": [
        "len(word)"
      ],
      "metadata": {
        "id": "RMmyIL_WD2Di",
        "colab": {
          "base_uri": "https://localhost:8080/"
        },
        "outputId": "4db6691e-2895-4a28-e7a7-42b7c74b7caa"
      },
      "execution_count": 77,
      "outputs": [
        {
          "output_type": "execute_result",
          "data": {
            "text/plain": [
              "32"
            ]
          },
          "metadata": {},
          "execution_count": 77
        }
      ]
    },
    {
      "cell_type": "code",
      "source": [
        "from nltk.corpus import stopwords\n",
        "sw=stopwords.words('english')"
      ],
      "metadata": {
        "id": "PwGVv3klD36o"
      },
      "execution_count": 78,
      "outputs": []
    },
    {
      "cell_type": "code",
      "source": [
        "sw"
      ],
      "metadata": {
        "id": "FaYll05fD-fs",
        "colab": {
          "base_uri": "https://localhost:8080/"
        },
        "outputId": "49894dfc-2741-439d-e5c3-3ea685cd5c64"
      },
      "execution_count": 79,
      "outputs": [
        {
          "output_type": "execute_result",
          "data": {
            "text/plain": [
              "['i',\n",
              " 'me',\n",
              " 'my',\n",
              " 'myself',\n",
              " 'we',\n",
              " 'our',\n",
              " 'ours',\n",
              " 'ourselves',\n",
              " 'you',\n",
              " \"you're\",\n",
              " \"you've\",\n",
              " \"you'll\",\n",
              " \"you'd\",\n",
              " 'your',\n",
              " 'yours',\n",
              " 'yourself',\n",
              " 'yourselves',\n",
              " 'he',\n",
              " 'him',\n",
              " 'his',\n",
              " 'himself',\n",
              " 'she',\n",
              " \"she's\",\n",
              " 'her',\n",
              " 'hers',\n",
              " 'herself',\n",
              " 'it',\n",
              " \"it's\",\n",
              " 'its',\n",
              " 'itself',\n",
              " 'they',\n",
              " 'them',\n",
              " 'their',\n",
              " 'theirs',\n",
              " 'themselves',\n",
              " 'what',\n",
              " 'which',\n",
              " 'who',\n",
              " 'whom',\n",
              " 'this',\n",
              " 'that',\n",
              " \"that'll\",\n",
              " 'these',\n",
              " 'those',\n",
              " 'am',\n",
              " 'is',\n",
              " 'are',\n",
              " 'was',\n",
              " 'were',\n",
              " 'be',\n",
              " 'been',\n",
              " 'being',\n",
              " 'have',\n",
              " 'has',\n",
              " 'had',\n",
              " 'having',\n",
              " 'do',\n",
              " 'does',\n",
              " 'did',\n",
              " 'doing',\n",
              " 'a',\n",
              " 'an',\n",
              " 'the',\n",
              " 'and',\n",
              " 'but',\n",
              " 'if',\n",
              " 'or',\n",
              " 'because',\n",
              " 'as',\n",
              " 'until',\n",
              " 'while',\n",
              " 'of',\n",
              " 'at',\n",
              " 'by',\n",
              " 'for',\n",
              " 'with',\n",
              " 'about',\n",
              " 'against',\n",
              " 'between',\n",
              " 'into',\n",
              " 'through',\n",
              " 'during',\n",
              " 'before',\n",
              " 'after',\n",
              " 'above',\n",
              " 'below',\n",
              " 'to',\n",
              " 'from',\n",
              " 'up',\n",
              " 'down',\n",
              " 'in',\n",
              " 'out',\n",
              " 'on',\n",
              " 'off',\n",
              " 'over',\n",
              " 'under',\n",
              " 'again',\n",
              " 'further',\n",
              " 'then',\n",
              " 'once',\n",
              " 'here',\n",
              " 'there',\n",
              " 'when',\n",
              " 'where',\n",
              " 'why',\n",
              " 'how',\n",
              " 'all',\n",
              " 'any',\n",
              " 'both',\n",
              " 'each',\n",
              " 'few',\n",
              " 'more',\n",
              " 'most',\n",
              " 'other',\n",
              " 'some',\n",
              " 'such',\n",
              " 'no',\n",
              " 'nor',\n",
              " 'not',\n",
              " 'only',\n",
              " 'own',\n",
              " 'same',\n",
              " 'so',\n",
              " 'than',\n",
              " 'too',\n",
              " 'very',\n",
              " 's',\n",
              " 't',\n",
              " 'can',\n",
              " 'will',\n",
              " 'just',\n",
              " 'don',\n",
              " \"don't\",\n",
              " 'should',\n",
              " \"should've\",\n",
              " 'now',\n",
              " 'd',\n",
              " 'll',\n",
              " 'm',\n",
              " 'o',\n",
              " 're',\n",
              " 've',\n",
              " 'y',\n",
              " 'ain',\n",
              " 'aren',\n",
              " \"aren't\",\n",
              " 'couldn',\n",
              " \"couldn't\",\n",
              " 'didn',\n",
              " \"didn't\",\n",
              " 'doesn',\n",
              " \"doesn't\",\n",
              " 'hadn',\n",
              " \"hadn't\",\n",
              " 'hasn',\n",
              " \"hasn't\",\n",
              " 'haven',\n",
              " \"haven't\",\n",
              " 'isn',\n",
              " \"isn't\",\n",
              " 'ma',\n",
              " 'mightn',\n",
              " \"mightn't\",\n",
              " 'mustn',\n",
              " \"mustn't\",\n",
              " 'needn',\n",
              " \"needn't\",\n",
              " 'shan',\n",
              " \"shan't\",\n",
              " 'shouldn',\n",
              " \"shouldn't\",\n",
              " 'wasn',\n",
              " \"wasn't\",\n",
              " 'weren',\n",
              " \"weren't\",\n",
              " 'won',\n",
              " \"won't\",\n",
              " 'wouldn',\n",
              " \"wouldn't\"]"
            ]
          },
          "metadata": {},
          "execution_count": 79
        }
      ]
    },
    {
      "cell_type": "code",
      "source": [
        "from nltk.stem import PorterStemmer,WordNetLemmatizer\n",
        "s=PorterStemmer()\n",
        "l=WordNetLemmatizer()"
      ],
      "metadata": {
        "id": "Wcak2bF2D_l-"
      },
      "execution_count": 80,
      "outputs": []
    },
    {
      "cell_type": "code",
      "source": [
        "cleaned=[]\n",
        "for sent in sentence:\n",
        "  # print(sentence)\n",
        "  newsent=re.sub('[^a-zA-Z]',' ',sent)\n",
        "  # print(newsent)\n",
        "  newwordlist=[]\n",
        "  # print(newwordlist)\n",
        "  all_words=nltk.word_tokenize(newsent)\n",
        "  # print(all_words)\n",
        "  for w in all_words:\n",
        "    # print(w)\n",
        "    if w not in sw:\n",
        "      lemmatize_word=l.lemmatize(w)\n",
        "      # print(lemmatize_word)\n",
        "      newwordlist.append(lemmatize_word)\n",
        "cleaned.append(\" \".join(newwordlist))"
      ],
      "metadata": {
        "id": "_JdT7cjMEjUc"
      },
      "execution_count": 81,
      "outputs": []
    },
    {
      "cell_type": "code",
      "source": [
        "cleaned"
      ],
      "metadata": {
        "id": "QBT5FJ2-F-v2",
        "colab": {
          "base_uri": "https://localhost:8080/"
        },
        "outputId": "0e803d1c-e028-4e25-cef8-b29ef8cced84"
      },
      "execution_count": 82,
      "outputs": [
        {
          "output_type": "execute_result",
          "data": {
            "text/plain": [
              "['Different type pollution air pollution noise pollution sound pollution water pollution etc']"
            ]
          },
          "metadata": {},
          "execution_count": 82
        }
      ]
    },
    {
      "cell_type": "code",
      "source": [],
      "metadata": {
        "id": "86uq9uWUIIwi"
      },
      "execution_count": 82,
      "outputs": []
    }
  ]
}